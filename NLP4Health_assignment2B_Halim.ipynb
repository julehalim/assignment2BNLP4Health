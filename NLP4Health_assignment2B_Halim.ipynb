{
 "cells": [
  {
   "cell_type": "markdown",
   "metadata": {},
   "source": [
    "**Assignment 2B**\\\n",
    "**Jule Valendo Halim -1425567**\\\n",
    "**4/24/2024**"
   ]
  },
  {
   "cell_type": "markdown",
   "metadata": {},
   "source": [
    "# Question 1"
   ]
  },
  {
   "cell_type": "code",
   "execution_count": 1,
   "metadata": {},
   "outputs": [
    {
     "name": "stderr",
     "output_type": "stream",
     "text": [
      "c:\\Users\\julev\\anaconda3\\Lib\\site-packages\\pandas\\core\\arrays\\masked.py:60: UserWarning: Pandas requires version '1.3.6' or newer of 'bottleneck' (version '1.3.5' currently installed).\n",
      "  from pandas.core import (\n"
     ]
    },
    {
     "name": "stdout",
     "output_type": "stream",
     "text": [
      "Number of Entries: 54017\n",
      "Number of Unique Doctors: 19097 \n",
      "\n",
      "Distribution of Ratings:\n",
      " rating\n",
      " 1    38847\n",
      "-1    15170\n",
      "Name: count, dtype: int64\n"
     ]
    },
    {
     "data": {
      "text/plain": [
       "<Axes: title={'center': 'Distribution Graph of Ratings'}, xlabel='Count', ylabel='Rating'>"
      ]
     },
     "execution_count": 1,
     "metadata": {},
     "output_type": "execute_result"
    },
    {
     "data": {
      "image/png": "[encoded data removed]",
      "text/plain": [
       "<Figure size 640x480 with 1 Axes>"
      ]
     },
     "metadata": {},
     "output_type": "display_data"
    }
   ],
   "source": [
    "##Question 1\n",
    "\n",
    "##loading in the dr_review\n",
    "\n",
    "import pandas as pd\n",
    "\n",
    "path='./DR_REVIEW/ratemd-dr-ratings.csv'\n",
    "drReview=pd.read_csv(path)\n",
    "\n",
    "print('Number of Entries:',drReview.shape[0])\n",
    "print('Number of Unique Doctors:',drReview['dr-id-adjusted'].nunique(),'\\n')\n",
    "\n",
    "ratings=drReview['rating'].value_counts()\n",
    "print(\"Distribution of Ratings:\\n\",ratings)\n",
    "\n",
    "ratings.plot(kind='barh',title='Distribution Graph of Ratings', xlabel='Count',ylabel='Rating')"
   ]
  },
  {
   "cell_type": "markdown",
   "metadata": {},
   "source": [
    "# Question 2"
   ]
  },
  {
   "cell_type": "code",
   "execution_count": 2,
   "metadata": {},
   "outputs": [
    {
     "data": {
      "application/vnd.jupyter.widget-view+json": {
       "model_id": "5dfed261deb546e7b5c642c5db713bca",
       "version_major": 2,
       "version_minor": 0
      },
      "text/plain": [
       "  0%|          | 0/54017 [00:00<?, ?it/s]"
      ]
     },
     "metadata": {},
     "output_type": "display_data"
    }
   ],
   "source": [
    "## Question 2\n",
    "\n",
    "import nltk\n",
    "import string\n",
    "from tqdm.notebook import tqdm\n",
    "\n",
    "stopWords=set(nltk.corpus.stopwords.words('english'))\n",
    "punctuations=string.punctuation\n",
    "\n",
    "def preprocess(text):\n",
    "    tokens=nltk.word_tokenize(text.lower())\n",
    "    tokensClean=[t for t in tokens if (t not in stopWords) and (t not in punctuations)]\n",
    "    return ' '.join(tokensClean)\n",
    "\n",
    "tqdm.pandas()\n",
    "drReview['review-text-cleaned']=drReview['review-text-cleaned'].progress_apply(preprocess)"
   ]
  },
  {
   "cell_type": "code",
   "execution_count": 3,
   "metadata": {},
   "outputs": [
    {
     "name": "stdout",
     "output_type": "stream",
     "text": [
      "TOP 10 WORDS IN REVIEW TEXT:\n",
      "WORD: dr. //FREQUENCY: 31290\n",
      "WORD: doctor //FREQUENCY: 24217\n",
      "WORD: time //FREQUENCY: 15234\n",
      "WORD: n't //FREQUENCY: 14816\n",
      "WORD: would //FREQUENCY: 13848\n",
      "WORD: staff //FREQUENCY: 12321\n",
      "WORD: 's //FREQUENCY: 11607\n",
      "WORD: office //FREQUENCY: 10256\n",
      "WORD: great //FREQUENCY: 9796\n",
      "\n",
      "TOP 10 TFIDF SCORES:\n",
      "WORD: dr //TFIDF SCORE: 0.5525698179589782\n",
      "WORD: doctor //TFIDF SCORE: 0.3251472052470261\n",
      "WORD: time //TFIDF SCORE: 0.20448400010088189\n",
      "WORD: would //TFIDF SCORE: 0.18426511888672864\n",
      "WORD: staff //TFIDF SCORE: 0.16469631981135066\n",
      "WORD: office //TFIDF SCORE: 0.13749900584218128\n",
      "WORD: great //TFIDF SCORE: 0.13074611178837287\n",
      "WORD: quot //TFIDF SCORE: 0.12111428254855972\n",
      "WORD: recommend //TFIDF SCORE: 0.10845758131607795\n"
     ]
    }
   ],
   "source": [
    "## Question 2 Continued\n",
    "from collections import Counter\n",
    "from sklearn.feature_extraction.text import TfidfVectorizer\n",
    "\n",
    "## Obtaining top 10 words (after tokenization and preprocessing)\n",
    "stringOfReviews=' '.join(drReview['review-text-cleaned'])\n",
    "words=stringOfReviews.split()\n",
    "wordsFrequency=Counter(words)\n",
    "sortedWords=sorted(wordsFrequency.items(),key=lambda x: x[1], reverse=True)\n",
    "print('TOP 10 WORDS IN REVIEW TEXT:')\n",
    "for i in range (9):\n",
    "    print('WORD:',sortedWords[i][0],'//FREQUENCY:',sortedWords[i][1])\n",
    "\n",
    "TFIDFVector=TfidfVectorizer()\n",
    "tfidf=TFIDFVector.fit_transform([stringOfReviews])\n",
    "features=TFIDFVector.get_feature_names_out()\n",
    "scores=tfidf.toarray()[0]\n",
    "zippedFeatures=list(zip(features,scores))\n",
    "sortedFeatures=sorted(zippedFeatures, key=lambda x: x[1], reverse=True)\n",
    "print('\\nTOP 10 TFIDF SCORES:')\n",
    "for i in range (9):\n",
    "    print('WORD:',sortedFeatures[i][0],'//TFIDF SCORE:',sortedFeatures[i][1])\n"
   ]
  },
  {
   "cell_type": "markdown",
   "metadata": {},
   "source": [
    "# Question 3"
   ]
  },
  {
   "cell_type": "code",
   "execution_count": 4,
   "metadata": {},
   "outputs": [
    {
     "name": "stdout",
     "output_type": "stream",
     "text": [
      "With 2 Clusters:\n",
      "[['excellent' 'helpful' 'recommend' 'caring' 'staff' 'time'\n",
      "  'knowledgeable' 'dr' 'great' 'doctor']\n",
      " ['see' 'like' 'never' 'staff' 'time' 'would' 'office' 'quot' 'doctor'\n",
      "  'dr']]\n",
      "With 3 Clusters:\n",
      "[['see' 'rude' 'back' 'get' 'never' 'would' 'office' 'doctor' 'dr' 'quot']\n",
      " ['helpful' 'good' 'recommend' 'best' 'caring' 'knowledgeable' 'staff'\n",
      "  'great' 'doctor' 'dr']\n",
      " ['wait' 'staff' 'great' 'patients' 'questions' 'doctor' 'always' 'dr'\n",
      "  'takes' 'time']]\n",
      "With 5 Clusters:\n",
      "[['calming' 'plain' 'artery' 'qualities' 'kingman' 'stagner' 'temporal'\n",
      "  'wonderful' 'skilled' 'tammaro']\n",
      " ['knowledgeable' 'good' 'recommend' 'office' 'would' 'staff' 'great'\n",
      "  'time' 'doctor' 'dr']\n",
      " ['rating' 'secretary' 'dollar' 'cleaned' 'signs' 'scottsdale' 'dentist'\n",
      "  'hmmmm' 'prostadontist' 'quot']\n",
      " ['never' 'always' 'quot' 'described' 'rude' 'people' 'reccommended'\n",
      "  'connell' 'supposedly' 'things']\n",
      " ['kind' 'work' 'much' 'anything' 'pleasant' 'heard' 'mouth' 'fun' 'foul'\n",
      "  'singing']]\n",
      "With 10 Clusters:\n",
      "[['anyone' 'experience' 'right' 'bad' 'less' 'sick' 'matter' 'recomend'\n",
      "  'dissapointed' 'extremenly']\n",
      " ['waste' 'condescending' 'order' 'thoroughly' 'changing' 'decision'\n",
      "  'switch' 'managed' 'pcps' 'gerace']\n",
      " ['none' 'experiences' 'mean' 'forget' 'final' 'told' 'davis' 'refuse'\n",
      "  'straw' 'see']\n",
      " ['terrific' 'never' 'get' 'happens' 'practically' 'overly' 'reaching'\n",
      "  'office' 'phone' 'ford']\n",
      " ['quot' 'recommend' 'good' 'office' 'would' 'great' 'staff' 'time'\n",
      "  'doctor' 'dr']\n",
      " ['divets' 'disfigurements' 'week' 'large' 'areas' 'quot' 'swelling'\n",
      "  'raised' 'baroody' 'juvederm']\n",
      " ['really' 'much' 'concerns' 'amazing' 'knows' 'pay' 'answers' 'co'\n",
      "  'alot' 'pays']\n",
      " ['persistent' 'subsequent' 'jacob' '28' 'market' 'armour' 'recalled'\n",
      "  'burbank' 'feat' 'thyroid']\n",
      " ['caring' 'great' 've' 'years' 'doctors' 'one' 'doctor' 'dr' 'ever'\n",
      "  'best']\n",
      " ['expirence' 'expired' 'expierience' 'expierence' 'expienced' 'doctor'\n",
      "  'would' 'call' 'sure' 'clue']]\n"
     ]
    }
   ],
   "source": [
    "## Question 3\n",
    "\n",
    "from sklearn.cluster import KMeans\n",
    "\n",
    "TFIDFVector=TfidfVectorizer()\n",
    "\n",
    "def kMeansFunc(clusterCount):\n",
    "    first10KRows=drReview[0:10000]\n",
    "    first10KReviews=first10KRows['review-text-cleaned']\n",
    "    tfidf=TFIDFVector.fit_transform(first10KReviews)\n",
    "    features=TFIDFVector.get_feature_names_out()\n",
    "    km=KMeans(n_clusters=clusterCount,n_init='auto').fit(tfidf)\n",
    "    top10Words=km.cluster_centers_.argsort()[:,-10:]\n",
    "    print(f'With {clusterCount} Clusters:')\n",
    "    print(features[top10Words])\n",
    "\n",
    "kMeansFunc(2)\n",
    "kMeansFunc(3)\n",
    "kMeansFunc(5)\n",
    "kMeansFunc(10)"
   ]
  },
  {
   "cell_type": "markdown",
   "metadata": {},
   "source": [
    "**Response to Question 3**\n",
    "\n",
    "One problem caused by high dimensionality is the curse of dimensionality, which is that as the dimensions increase, the distances become more difficult to measure significant differences. This problem could be alleviated by using dimensionality reduction techniques such as principal component analysis (PCA).\n",
    "\n",
    "Another problem is difficulty of interpretability and initial clustering selection. For example, in the KNN performed above, some of the clusters are difficult to interpret. KNN approaches can usually select random number of clusters to create before iteratively repeating the process to further create interpretable clusters. However, when there is a high dimensionality vector as the feature space, this may sometimes be difficult as the data might not have good separability, and so is very sensitive to changes in cluster counts. This problem could be addressed by testing out multiple clusters multiple times each. However, this would require some domain knowledge to ensure that the clusters make sense and has substantial topic divisions (ie., that each cluster meaningfully identifies some commonality or topic)."
   ]
  }
 ],
 "metadata": {
  "kernelspec": {
   "display_name": "python38",
   "language": "python",
   "name": "python3"
  },
  "language_info": {
   "codemirror_mode": {
    "name": "ipython",
    "version": 3
   },
   "file_extension": ".py",
   "mimetype": "text/x-python",
   "name": "python",
   "nbconvert_exporter": "python",
   "pygments_lexer": "ipython3",
   "version": "3.11.3"
  }
 },
 "nbformat": 4,
 "nbformat_minor": 2
}
